{
 "cells": [
  {
   "cell_type": "markdown",
   "id": "03e1d2b7-1f54-4e5b-b9d5-6ad90d2655e6",
   "metadata": {},
   "source": [
    "<p style=\"text-align:center;\"><span style=\"font-size:60px;\"><span style=\"color:navy\"><span style=\"font-family:cursive;\"><span style=\"font-weight:1000\">Hi Everybody 👋</span></span></span></span></p>"
   ]
  },
  {
   "cell_type": "code",
   "execution_count": 4,
   "id": "e945dd63-30e8-4972-8ffb-d9b81eadec36",
   "metadata": {},
   "outputs": [],
   "source": [
    "##### PIC"
   ]
  },
  {
   "cell_type": "markdown",
   "id": "1cd21003-8ec5-4fbd-bc7b-04653d800e3c",
   "metadata": {},
   "source": [
    "<div style=\"border-radius:10px; padding: 15px; background-color: #e3e6fa; text-align:left; font-size:120%\">\n",
    "\n",
    "<h4 align=\"left\"><span style=\"font-weight:700; font-size:160%\"><font color=#d10202>Description:</font></span></h4>\n"
   ]
  },
  {
   "cell_type": "markdown",
   "id": "ef44f125-0868-4ff8-9616-17b41d609c2c",
   "metadata": {},
   "source": [
    "<a id=\"setup\"></a>\n",
    "<h1><p style=\"padding:15px;background-color:black ;margin:0;color:#ffffff;font-family:Chalkduster;font-size:75%;text-align:center;border-radius: 75px 75px;font-weight:700; box-shadow: 10px 10px 5px #32409c\">Table Of Content</p></h1>"
   ]
  },
  {
   "cell_type": "markdown",
   "id": "c1ff6a17-2454-4700-9cd6-358ad72daac0",
   "metadata": {},
   "source": [
    "<a id=\"content\"></a>    \n",
    "<div style=\"border-radius:20px; padding: 15px; background-color: #e3e6fa; font-size:100%; text-align:left\">\n",
    "\n",
    "<h2><span style=\"text-align:center; font-weight:bolder; color:navy\">Table of Contents:</span></h2>\n",
    "\n",
    " * **[Step 1 | Nessesary Libraries](#setup)**\n",
    "    -  [1.1 | Import Libraries](#import)\n",
    "    -  [1.2 | Library configurations](#lib_config)\n",
    " *  **[Step 2 | Data](#data)**\n",
    "    -  [2.1 | Collecting Data](#load_data)\n",
    "    -  [2.2 | Data purification](#data_pure)\n",
    " *  **[Step 3 | Data Wrangling](#data_wrangling)**\n",
    "    -  [3.1 | Missing Values](#missing)\n",
    "    -  [3.2 | Data Analysis](#analysis)\n",
    "    -  [3.3 | Plots](#plots)\n",
    "    -  [3.4 | One Hot Encoder](#onehot)\n",
    "    -  [3.5 | Geographic Map](#geomap)\n",
    " *  **[Step 4 | Macine Learning](#ml)**\n",
    "    -  [4.1 | Initializations](#init)\n",
    "    -  [4.2 | LogisticRegression](#lr)\n",
    "    -  [4.3 | SVC](#svc)\n",
    "    -  [4.4 | DecisionTreeClassifier](#tree)\n",
    "    -  [4.5 | KNeighborsClassifier](#knn)\n",
    "    -  [4.6 | result](#result)\n",
    " *  **[Author](#author)**"
   ]
  },
  {
   "cell_type": "markdown",
   "id": "4314a521-c168-4d56-be51-131f298fb43a",
   "metadata": {},
   "source": [
    "<a id=\"setup\"></a>\n",
    "<h1><p style=\"padding:15px;background-color:black ;margin:0;color:#ffffff;font-family:Chalkduster;font-size:75%;text-align:center;border-radius: 75px 75px;font-weight:700; box-shadow: 10px 10px 5px #32409c\">Step 1 | Nessasary Libraries</p></h1>"
   ]
  },
  {
   "cell_type": "markdown",
   "id": "17fb0ccf-cc2b-4af2-bbdf-f48a474151a5",
   "metadata": {},
   "source": [
    "<a id=\"import\"></a>\n",
    "<h2><b><span style=\"color:#0266b7\">Step 1.1 | </span><span style=\"color:#ff6200\">Import Libraries</span></b></h2>"
   ]
  },
  {
   "cell_type": "code",
   "execution_count": 1,
   "id": "75d95f8c-fafb-40d8-8ac7-004c2e11d3c0",
   "metadata": {},
   "outputs": [],
   "source": [
    "import pandas as pd\n",
    "# import numpy as np\n",
    "import matplotlib.pyplot as plt\n",
    "import seaborn as sns\n",
    "import warnings"
   ]
  },
  {
   "cell_type": "markdown",
   "id": "2fcbc4bb-c19d-4914-9220-dcba1dd0b546",
   "metadata": {},
   "source": [
    "<a id=\"lib_config\"></a>\n",
    "<h2><b><span style=\"color:#0266b7\">Step 1.2 | </span><span style=\"color:#ff6200\">Library configurations</span></b></h2>"
   ]
  },
  {
   "cell_type": "code",
   "execution_count": 2,
   "id": "6ea457e4-574c-438f-b1a7-a49645571bef",
   "metadata": {},
   "outputs": [],
   "source": [
    "pd.options.mode.copy_on_write = True # Allow re-write on variable\n",
    "\n",
    "sns.set_style('darkgrid') # Seaborn style\n",
    "\n",
    "warnings.filterwarnings('ignore') # Ignore warnings\n"
   ]
  },
  {
   "cell_type": "code",
   "execution_count": null,
   "id": "86156481-edd3-4dc1-8e59-0f2df44d98f9",
   "metadata": {},
   "outputs": [],
   "source": []
  }
 ],
 "metadata": {
  "kernelspec": {
   "display_name": "Python 3 (ipykernel)",
   "language": "python",
   "name": "python3"
  },
  "language_info": {
   "codemirror_mode": {
    "name": "ipython",
    "version": 3
   },
   "file_extension": ".py",
   "mimetype": "text/x-python",
   "name": "python",
   "nbconvert_exporter": "python",
   "pygments_lexer": "ipython3",
   "version": "3.11.3"
  }
 },
 "nbformat": 4,
 "nbformat_minor": 5
}
